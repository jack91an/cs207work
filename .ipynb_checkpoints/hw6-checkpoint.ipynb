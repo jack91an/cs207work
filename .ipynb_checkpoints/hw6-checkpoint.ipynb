{
 "cells": [
  {
   "cell_type": "markdown",
   "metadata": {
    "collapsed": true
   },
   "source": [
    "## Q1.\n",
    "\n",
    "Add a __setitem__ to the python linked list implementation from the lecture (this past wednesday)."
   ]
  },
  {
   "cell_type": "code",
   "execution_count": 3,
   "metadata": {
    "collapsed": false
   },
   "outputs": [
    {
     "data": {
      "text/plain": [
       "3"
      ]
     },
     "execution_count": 3,
     "metadata": {},
     "output_type": "execute_result"
    }
   ],
   "source": [
    "alist=[1,2,3,4]\n",
    "alist.__getitem__(2)"
   ]
  },
  {
   "cell_type": "code",
   "execution_count": 4,
   "metadata": {
    "collapsed": true
   },
   "outputs": [],
   "source": [
    "#your code here\n",
    "from doctest import run_docstring_examples as dtest\n",
    "import numbers\n",
    "import reprlib\n",
    "class LL:\n",
    "    \"\"\"\n",
    "    >>> A = LL()  \n",
    "    >>> A[0]\n",
    "    Traceback (most recent call last):\n",
    "        ...\n",
    "    IndexError: trying to index an empty LL\n",
    "    >>> A[0] = 1\n",
    "    Traceback (most recent call last):\n",
    "        ...\n",
    "    IndexError: trying to set an empty LL\n",
    "    >>> A.insert_front(1)\n",
    "    >>> A[0]\n",
    "    1\n",
    "    >>> A.insert_back(2)\n",
    "    >>> A[1]\n",
    "    2\n",
    "    >>> A\n",
    "    LL([1,...])\n",
    "    >>> myll = LL.from_components([1,2])\n",
    "    >>> myll[1]\n",
    "    1\n",
    "    >>> len(myll)\n",
    "    2\n",
    "    >>> myll[2]\n",
    "    Traceback (most recent call last):\n",
    "        ...\n",
    "    IndexError: LL index out of range\n",
    "    >>> myll[0:1]\n",
    "    Traceback (most recent call last):\n",
    "        ...\n",
    "    TypeError: LL indices must be integers\n",
    "    >>> myll[0] = 3\n",
    "    >>> myll[0]\n",
    "    3\n",
    "    >>> myll[1] = 4\n",
    "    >>> myll[1]\n",
    "    4\n",
    "    >>> myll[2] = 5\n",
    "    Traceback (most recent call last):\n",
    "        ...\n",
    "    IndexError: LL index out of range\n",
    "    >>> myll[0:1] = 6\n",
    "    Traceback (most recent call last):\n",
    "        ...\n",
    "    TypeError: LL indices must be integers\n",
    "    \"\"\"\n",
    "    @classmethod\n",
    "    def from_components(cls, components):\n",
    "        inst = cls(components[0])\n",
    "        for c in components[1:]:\n",
    "            inst.insert_front(c)\n",
    "        return inst\n",
    "        \n",
    "    def __init__(self, head=None):\n",
    "        if head is None:\n",
    "            self._headNode = None\n",
    "        else:\n",
    "            self._headNode = [head, None]\n",
    "            \n",
    "    def insert_front(self, element):\n",
    "        new_node = [element, None]\n",
    "        new_node[1] = self._headNode\n",
    "        self._headNode = new_node\n",
    "        \n",
    "    def insert_back(self, element):\n",
    "        new_node = [element, None]\n",
    "        curr_ptr = self._headNode\n",
    "        while curr_ptr[1] is not None:\n",
    "            curr_ptr = curr_ptr[1]\n",
    "        curr_ptr[1]= new_node\n",
    "        \n",
    "    def __repr__(self):\n",
    "        class_name = type(self).__name__\n",
    "        if len(self)==0:\n",
    "            components=\"\"\n",
    "        else:\n",
    "            components = reprlib.repr(self[0])\n",
    "        return '{}([{},...])'.format(class_name,components)\n",
    "\n",
    "\n",
    "    def __len__(self):\n",
    "        curr_ptr = self._headNode\n",
    "        count = 0\n",
    "        if curr_ptr==None:\n",
    "            return 0\n",
    "        while 1:\n",
    "            count = count + 1\n",
    "            if curr_ptr[1] is None:\n",
    "                break\n",
    "            curr_ptr = curr_ptr[1]\n",
    "        return count    \n",
    "    \n",
    "    def __getitem__(self, index):\n",
    "        class_name = type(self).__name__\n",
    "        if isinstance(index, numbers.Integral): \n",
    "            curr_ptr = self._headNode\n",
    "            if curr_ptr==None:\n",
    "                msg = 'trying to index an empty {class_name}' \n",
    "                raise IndexError(msg.format(class_name=class_name))\n",
    "            next_ptr = self._headNode[1]\n",
    "            count = 0\n",
    "            while 1:\n",
    "                if index == count:\n",
    "                    return curr_ptr[0]\n",
    "                if curr_ptr[1] is None:\n",
    "                    msg = '{class_name} index out of range' \n",
    "                    raise IndexError(msg.format(class_name=class_name))       \n",
    "                count += 1\n",
    "                curr_ptr = curr_ptr[1]\n",
    "        else:\n",
    "            msg = '{class_name} indices must be integers' \n",
    "            raise TypeError(msg.format(class_name=class_name))\n",
    "            \n",
    "    ### Added __setitem__ method\n",
    "    def __setitem__(self, index, value):\n",
    "        class_name = type(self).__name__\n",
    "        if isinstance(index, numbers.Integral):\n",
    "            curr_ptr = self._headNode\n",
    "            if curr_ptr==None:\n",
    "                msg = 'trying to set an empty {class_name}'\n",
    "                raise IndexError(msg.format(class_name=class_name))\n",
    "            count = 0\n",
    "            while curr_ptr[1] is not None and count < index:\n",
    "                curr_ptr = curr_ptr[1]\n",
    "                count += 1\n",
    "            if count == index:\n",
    "                curr_ptr[0] = value\n",
    "            else:\n",
    "                raise IndexError('{} index out of range'.format(class_name=class_name))\n",
    "        else:\n",
    "            raise TypeError('{} indices must be integers'.format(class_name=class_name))"
   ]
  },
  {
   "cell_type": "markdown",
   "metadata": {},
   "source": [
    "## Q2.\n",
    "\n",
    "An online mean and standard deviation algorithm.\n",
    "\n",
    "Below is a function to generate a potentially infinite stream of 1-D data."
   ]
  },
  {
   "cell_type": "code",
   "execution_count": 5,
   "metadata": {
    "collapsed": false
   },
   "outputs": [],
   "source": [
    "from random import normalvariate, random\n",
    "from itertools import count\n",
    "def make_data(m, stop=None):\n",
    "    for _ in count():\n",
    "        if stop and _ > stop:\n",
    "            break\n",
    "        yield 1.0e09 + normalvariate(0, m*random() )\n",
    "        "
   ]
  },
  {
   "cell_type": "code",
   "execution_count": 7,
   "metadata": {
    "collapsed": false
   },
   "outputs": [
    {
     "data": {
      "text/plain": [
       "[1000000000.7549908, 999999997.8325588, 999999996.8880382]"
      ]
     },
     "execution_count": 7,
     "metadata": {},
     "output_type": "execute_result"
    }
   ],
   "source": [
    "list(make_data(5,2))"
   ]
  },
  {
   "cell_type": "markdown",
   "metadata": {},
   "source": [
    "Here is an implementation of an online mean algorithm..see http://www.johndcook.com/blog/standard_deviation/ and the link to http://www.johndcook.com/blog/2008/09/26/comparing-three-methods-of-computing-standard-deviation/ in-between. (Convince yourselves of the formulas...)"
   ]
  },
  {
   "cell_type": "code",
   "execution_count": 10,
   "metadata": {
    "collapsed": true
   },
   "outputs": [],
   "source": [
    "def online_mean(iterator):\n",
    "    n = 0\n",
    "    mu = 0\n",
    "    for value in iterator:\n",
    "        n += 1\n",
    "        delta = value - mu\n",
    "        mu = mu + delta/n\n",
    "        yield mu"
   ]
  },
  {
   "cell_type": "markdown",
   "metadata": {},
   "source": [
    "We use out generator functions to implement iterators:"
   ]
  },
  {
   "cell_type": "code",
   "execution_count": 11,
   "metadata": {
    "collapsed": false
   },
   "outputs": [
    {
     "data": {
      "text/plain": [
       "[1000000000.8602657,\n",
       " 1000000003.8030909,\n",
       " 999999997.3788062,\n",
       " 999999998.9032848,\n",
       " 1000000000.2013532,\n",
       " 1000000000.9687692,\n",
       " 999999999.0212168,\n",
       " 999999998.2940586,\n",
       " 1000000002.4101428,\n",
       " 1000000002.0160671,\n",
       " 999999991.9516482]"
      ]
     },
     "execution_count": 11,
     "metadata": {},
     "output_type": "execute_result"
    }
   ],
   "source": [
    "g = make_data(5, 10)\n",
    "list(g)"
   ]
  },
  {
   "cell_type": "code",
   "execution_count": 12,
   "metadata": {
    "collapsed": false,
    "scrolled": true
   },
   "outputs": [
    {
     "name": "stdout",
     "output_type": "stream",
     "text": [
      "<class 'generator'>\n"
     ]
    },
    {
     "data": {
      "text/plain": [
       "[999999999.147202,\n",
       " 999999999.3621409,\n",
       " 999999999.5624505,\n",
       " 999999999.7757088,\n",
       " 999999999.4152756,\n",
       " 999999999.587253,\n",
       " 999999999.9054835,\n",
       " 999999999.9942588,\n",
       " 999999999.9959834,\n",
       " 1000000000.1426,\n",
       " 1000000000.1039194,\n",
       " 1000000000.1689925,\n",
       " 1000000000.4828148,\n",
       " 1000000000.4030095,\n",
       " 1000000000.5495793,\n",
       " 1000000000.4979496,\n",
       " 1000000000.255478,\n",
       " 1000000000.3380091,\n",
       " 1000000000.0593823,\n",
       " 1000000000.0156648,\n",
       " 999999999.9342558,\n",
       " 999999999.9772483,\n",
       " 999999999.9891541,\n",
       " 999999999.7527844,\n",
       " 999999999.7642971,\n",
       " 999999999.729416,\n",
       " 999999999.6682594,\n",
       " 999999999.8192363,\n",
       " 999999999.8517159,\n",
       " 999999999.8935198,\n",
       " 999999999.780602,\n",
       " 999999999.7628399,\n",
       " 999999999.730688,\n",
       " 999999999.7167678,\n",
       " 999999999.7725041,\n",
       " 999999999.7341801,\n",
       " 999999999.628769,\n",
       " 999999999.7262572,\n",
       " 999999999.5559964,\n",
       " 999999999.5774873,\n",
       " 999999999.5822929,\n",
       " 999999999.6647944,\n",
       " 999999999.6321726,\n",
       " 999999999.7310344,\n",
       " 999999999.6523372,\n",
       " 999999999.6744062,\n",
       " 999999999.6809155,\n",
       " 999999999.6678241,\n",
       " 999999999.6618245,\n",
       " 999999999.675602,\n",
       " 999999999.6892838,\n",
       " 999999999.6987817,\n",
       " 999999999.708439,\n",
       " 999999999.693372,\n",
       " 999999999.6970102,\n",
       " 999999999.7192686,\n",
       " 999999999.7698916,\n",
       " 999999999.7526144,\n",
       " 999999999.7186142,\n",
       " 999999999.7237079,\n",
       " 999999999.7175708,\n",
       " 999999999.7465254,\n",
       " 999999999.7871473,\n",
       " 999999999.7892948,\n",
       " 999999999.8331093,\n",
       " 999999999.8960965,\n",
       " 999999999.8737214,\n",
       " 999999999.9583762,\n",
       " 999999999.9508963,\n",
       " 999999999.9556022,\n",
       " 1000000000.0005839,\n",
       " 1000000000.0197184,\n",
       " 1000000000.118081,\n",
       " 1000000000.1287266,\n",
       " 1000000000.1514518,\n",
       " 1000000000.145168,\n",
       " 1000000000.1676029,\n",
       " 1000000000.1655115,\n",
       " 1000000000.1659486,\n",
       " 1000000000.1465244,\n",
       " 1000000000.128518,\n",
       " 1000000000.1207004,\n",
       " 1000000000.1160679,\n",
       " 1000000000.1136733,\n",
       " 1000000000.1025366,\n",
       " 1000000000.0860707,\n",
       " 1000000000.0871583,\n",
       " 1000000000.0575113,\n",
       " 1000000000.0735548,\n",
       " 1000000000.0382515,\n",
       " 1000000000.0376381,\n",
       " 1000000000.0376418,\n",
       " 1000000000.0419534,\n",
       " 1000000000.042846,\n",
       " 1000000000.0499898,\n",
       " 1000000000.020758,\n",
       " 1000000000.0138764,\n",
       " 1000000000.0462081,\n",
       " 1000000000.0341059,\n",
       " 1000000000.0747372,\n",
       " 1000000000.0772612]"
      ]
     },
     "execution_count": 12,
     "metadata": {},
     "output_type": "execute_result"
    }
   ],
   "source": [
    "g = online_mean(make_data(5, 100))\n",
    "print(type(g))\n",
    "list(g)"
   ]
  },
  {
   "cell_type": "markdown",
   "metadata": {},
   "source": [
    "### 2.1\n",
    "\n",
    "Implement the standard deviation algorithm as a generator function as\n",
    "\n",
    "```python\n",
    "def online_mean_dev(iterator):\n",
    "    BLA BLA\n",
    "    if n > 1:\n",
    "        stddev = math.sqrt(dev_accum/(n-1))\n",
    "        yield (n, value, mu, stddev)\n",
    "```"
   ]
  },
  {
   "cell_type": "code",
   "execution_count": 13,
   "metadata": {
    "collapsed": false
   },
   "outputs": [],
   "source": [
    "# your code here\n",
    "import math\n",
    "def online_mean_dev(iterator):\n",
    "    n, mu, stdev = 0, 0, 0\n",
    "    for value in iterator:\n",
    "        n += 1\n",
    "        old_mu = mu\n",
    "        mu = mu + (value - mu)/n\n",
    "        stdev = stdev + (value - mu) * (value - old_mu)\n",
    "        if n > 1:\n",
    "            stddev = math.sqrt(stdev/(n - 1))\n",
    "            yield (n, value, mu, stddev)\n"
   ]
  },
  {
   "cell_type": "markdown",
   "metadata": {},
   "source": [
    "Here we make 100000 element data, and run this iterator on it (imagine running this on a time-series being slowly read from disk"
   ]
  },
  {
   "cell_type": "code",
   "execution_count": 14,
   "metadata": {
    "collapsed": true
   },
   "outputs": [],
   "source": [
    "data_with_stats = online_mean_dev(make_data(5, 100000))"
   ]
  },
  {
   "cell_type": "code",
   "execution_count": 17,
   "metadata": {
    "collapsed": false
   },
   "outputs": [
    {
     "name": "stdout",
     "output_type": "stream",
     "text": [
      "(7, 1000000001.848194, 1000000000.0399144, 1.5972751817170585)\n",
      "(8, 1000000003.6715766, 1000000000.4938722, 1.9584278439865066)\n",
      "(9, 999999996.4292532, 1000000000.0422479, 2.2785281413816567)\n",
      "(10, 1000000003.373593, 1000000000.3753824, 2.3926182287037037)\n",
      "(11, 1000000006.4026257, 1000000000.9233136, 2.90769229068073)\n"
     ]
    }
   ],
   "source": [
    "for i in range(5):\n",
    "    print(next(data_with_stats))"
   ]
  },
  {
   "cell_type": "markdown",
   "metadata": {},
   "source": [
    "## Q3.\n",
    "\n",
    "Let's do Anomaly detection. Write a routine `is_ok`:\n",
    "\n",
    "```python\n",
    "def is_ok(level, t)\n",
    "```\n",
    "\n",
    "which takes a tuple like the one yielded by your code above and returns True if the value is inbetween `level`-$\\sigma$ of the mean."
   ]
  },
  {
   "cell_type": "code",
   "execution_count": 18,
   "metadata": {
    "collapsed": true
   },
   "outputs": [],
   "source": [
    "#your code here\n",
    "def is_ok(level, t):\n",
    "    if abs(t[1] - t[2]) < t[3] * level:\n",
    "        return True \n",
    "    else:\n",
    "        return False"
   ]
  },
  {
   "cell_type": "markdown",
   "metadata": {},
   "source": [
    "We use this function to create a predicate passed through to `itertools.filterfalse` which is then used to obtain an iterator on the anomalies."
   ]
  },
  {
   "cell_type": "code",
   "execution_count": 19,
   "metadata": {
    "collapsed": true
   },
   "outputs": [],
   "source": [
    "from itertools import filterfalse\n",
    "pred = lambda t: is_ok(5, t)\n",
    "anomalies = filterfalse(pred, data_with_stats)"
   ]
  },
  {
   "cell_type": "markdown",
   "metadata": {},
   "source": [
    "We materialize the anomalies..."
   ]
  },
  {
   "cell_type": "code",
   "execution_count": 20,
   "metadata": {
    "collapsed": false
   },
   "outputs": [
    {
     "data": {
      "text/plain": [
       "[(1782, 999999980.77654, 999999999.8912255, 2.9999738406756755),\n",
       " (4250, 999999985.3141589, 999999999.9970548, 2.9076374232073667),\n",
       " (7318, 999999984.8045067, 1000000000.0223895, 2.923392061496004),\n",
       " (8496, 999999979.9388931, 1000000000.0085266, 2.9257835677102384),\n",
       " (10569, 1000000015.9076763, 1000000000.0218803, 2.9324183313642784),\n",
       " (17784, 999999982.3126541, 1000000000.0147505, 2.914380479243411),\n",
       " (22154, 1000000015.0276586, 1000000000.0166179, 2.920232951668278),\n",
       " (24920, 999999983.0749401, 1000000000.0109448, 2.920940187665244),\n",
       " (30656, 1000000016.10791, 1000000000.0169349, 2.923598390504787),\n",
       " (34467, 999999984.9024382, 1000000000.0098848, 2.916935047696519),\n",
       " (39426, 999999983.2533312, 1000000000.0046419, 2.912282080788748),\n",
       " (41993, 1000000021.4394876, 999999999.9985816, 2.909205683944786),\n",
       " (42485, 1000000014.9442719, 999999999.9995, 2.9096594696929223),\n",
       " (56150, 999999979.9017302, 1000000000.0040393, 2.899650819227098),\n",
       " (58157, 999999984.3178011, 1000000000.0043092, 2.89771407924113),\n",
       " (59324, 999999984.4174688, 1000000000.003451, 2.898542538880841),\n",
       " (59491, 1000000014.7994863, 1000000000.002985, 2.899440168398641),\n",
       " (65330, 1000000016.0026498, 1000000000.0034157, 2.8988889169787253),\n",
       " (70260, 999999984.4380002, 1000000000.000838, 2.8979935551247777),\n",
       " (78330, 999999985.490706, 1000000000.0053508, 2.8992883808021084),\n",
       " (81981, 999999983.8190305, 1000000000.008693, 2.897832782940786),\n",
       " (88884, 1000000016.9063507, 1000000000.0089511, 2.8998159843542317),\n",
       " (89803, 999999985.115136, 1000000000.0098025, 2.900795741510162),\n",
       " (90362, 999999983.898161, 1000000000.0105221, 2.900851013062665),\n",
       " (91418, 1000000015.1442616, 1000000000.009196, 2.9016572121560653),\n",
       " (97497, 1000000017.1693643, 1000000000.0066336, 2.9006226479746684),\n",
       " (98665, 999999984.6551895, 1000000000.0066391, 2.9004048866971153),\n",
       " (99032, 999999981.8392292, 1000000000.0060912, 2.9002713028544433)]"
      ]
     },
     "execution_count": 20,
     "metadata": {},
     "output_type": "execute_result"
    }
   ],
   "source": [
    "list(anomalies)#materialize"
   ]
  },
  {
   "cell_type": "markdown",
   "metadata": {},
   "source": [
    "## To think of, but not hand in\n",
    "\n",
    "What kinds of anomalies will this algorithm pick up? What kinds would a shorter \"window\" of anomaly detection, like 100 points around the time in question pick? How might you create an algorithm which does window based averaging? (hint: the window size is small compared to the time series size). \n",
    "\n",
    "Finally think a bit of how you might implement all of this in a production environment..remember that data streaming in might get backed up when you handle an anomaly.\n",
    "\n",
    "(Some inspiration might accrue if you look at the docs for `collections.deque`)."
   ]
  }
 ],
 "metadata": {
  "anaconda-cloud": {},
  "kernelspec": {
   "display_name": "Python [py35]",
   "language": "python",
   "name": "Python [py35]"
  },
  "language_info": {
   "codemirror_mode": {
    "name": "ipython",
    "version": 3
   },
   "file_extension": ".py",
   "mimetype": "text/x-python",
   "name": "python",
   "nbconvert_exporter": "python",
   "pygments_lexer": "ipython3",
   "version": "3.5.2"
  }
 },
 "nbformat": 4,
 "nbformat_minor": 0
}
