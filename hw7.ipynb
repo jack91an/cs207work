{
 "cells": [
  {
   "cell_type": "markdown",
   "metadata": {},
   "source": [
    "## Q1. Median Maintenance using a Heap\n",
    "\n",
    "\n",
    "### Part 1\n",
    "\n",
    "Implement a \"dominant heap\" class `BinaryHeap`, which can handle both the min heap and the max heap cases, by having the constructor explicitly pass the \"comparison\" operator in. Replace min and del_min by dominant and del_dominant methods. Change the classmethod to also take in the operator."
   ]
  },
  {
   "cell_type": "code",
   "execution_count": 105,
   "metadata": {
    "collapsed": false
   },
   "outputs": [],
   "source": [
    "#your code here\n",
    "class BinaryHeap:\n",
    "    \"\"\"\n",
    "    A dominant heap class that handle both min and max heap cases depending on constructor's input \"comparison\":\n",
    "    - gt: the max heap\n",
    "    - lt: the min heap\n",
    "    \"\"\"\n",
    "    def __init__(self, comparison):\n",
    "        self.storage=[None]\n",
    "        self.upto=0\n",
    "        self.op = comparison   ### assign comparision to operator for later use\n",
    "        \n",
    "    @classmethod\n",
    "    def heapify_slow(cls, it, comparison):\n",
    "        inst = cls(comparison)\n",
    "        for i in it:\n",
    "            inst.insert(i)\n",
    "        return inst\n",
    "            \n",
    "    def insert(self, value):\n",
    "        self.storage.append(value)\n",
    "        self.upto += 1\n",
    "        self.sift_up(self.upto)\n",
    "\n",
    "    def sift_up(self, i):\n",
    "        parent = i // 2\n",
    "        if parent > 0 and self.op(self.storage[i], self.storage[parent]):   ### update the sifting rule to depend on operator\n",
    "            self.storage[i], self.storage[parent] = self.storage[parent], self.storage[i]\n",
    "            self.sift_up(parent)\n",
    "     \n",
    "    def _dom_child(self, i):   ### Update the _min_child method to accomodate variable op\n",
    "        if 2*i + 1 > self.upto:\n",
    "            return 2*i\n",
    "        else:\n",
    "            if self.op(self.storage[2*i], self.storage[2*i+1]):\n",
    "                index = 2*i\n",
    "            else:\n",
    "                index = 2*i + 1\n",
    "            return index\n",
    "    \n",
    "    def sift_down(self, i):\n",
    "        if 2*i <= self.upto:\n",
    "            child = self._dom_child(i)\n",
    "            if self.op(self.storage[child], self.storage[i]):   ### update the sifting rule to depend on operator\n",
    "                self.storage[child], self.storage[i] = self.storage[i], self.storage[child]\n",
    "                self.sift_down(child)\n",
    "        \n",
    "    def dominant(self):   ### renamed method\n",
    "        return self.storage[1]\n",
    "    \n",
    "    def del_dominant(self):   ### renamed method\n",
    "        dom_val = self.storage[1]   ### renameed variable\n",
    "        self.storage[1], self.storage[self.upto] = self.storage[self.upto], self.storage[1]\n",
    "        self.storage.pop()\n",
    "        self.upto -= 1\n",
    "        self.sift_down(1)\n",
    "        return dom_val\n",
    "    \n",
    "    \n",
    "    "
   ]
  },
  {
   "cell_type": "code",
   "execution_count": 106,
   "metadata": {
    "collapsed": true
   },
   "outputs": [],
   "source": [
    "data = [1,8,5,9,23,2,45,6,7,99,-5]"
   ]
  },
  {
   "cell_type": "code",
   "execution_count": 107,
   "metadata": {
    "collapsed": false
   },
   "outputs": [
    {
     "name": "stdout",
     "output_type": "stream",
     "text": [
      "[None, -5, 1, 2, 7, 6, 5, 45, 9, 8, 99, 23]\n"
     ]
    },
    {
     "data": {
      "text/plain": [
       "-5"
      ]
     },
     "execution_count": 107,
     "metadata": {},
     "output_type": "execute_result"
    }
   ],
   "source": [
    "from operator import gt, lt\n",
    "bh = BinaryHeap.heapify_slow(data, lt)\n",
    "print(bh.storage)\n",
    "bh.dominant()"
   ]
  },
  {
   "cell_type": "code",
   "execution_count": 108,
   "metadata": {
    "collapsed": false
   },
   "outputs": [
    {
     "name": "stdout",
     "output_type": "stream",
     "text": [
      "[None, 99, 45, 23, 7, 9, 2, 5, 1, 6, 8, -5]\n"
     ]
    },
    {
     "data": {
      "text/plain": [
       "99"
      ]
     },
     "execution_count": 108,
     "metadata": {},
     "output_type": "execute_result"
    }
   ],
   "source": [
    "bh = BinaryHeap.heapify_slow(data, gt)\n",
    "print(bh.storage)\n",
    "bh.dominant()"
   ]
  },
  {
   "cell_type": "markdown",
   "metadata": {},
   "source": [
    "### Part 2\n",
    "\n",
    "Median maintenance is a very cool algorithm to find an online median.\n",
    "We create two arrays to test our implementation, using np.median to test our answer..."
   ]
  },
  {
   "cell_type": "code",
   "execution_count": 116,
   "metadata": {
    "collapsed": false
   },
   "outputs": [
    {
     "name": "stdout",
     "output_type": "stream",
     "text": [
      "150 487.5\n",
      "151 488.0\n"
     ]
    }
   ],
   "source": [
    "import random\n",
    "import numpy as np\n",
    "l = [random.randint(1,1000) for _ in range(150)]\n",
    "print(len(l), np.median(l))\n",
    "l2 = l + [random.randint(1,1000)]\n",
    "print(len(l2), np.median(l2))"
   ]
  },
  {
   "cell_type": "markdown",
   "metadata": {},
   "source": [
    "You will implement def online_median(iterator) which is a generator yielding successive values of your online median.\n",
    "\n",
    "The algorithm is as follows:\n",
    "\n",
    "We'll use 2 heaps, a max heap for the lower half of the data, and a min-heap for the upper half. We take the first 2values in our data and assign the smaller value to the max heap, while the larger value goes to the min-heap. Then, as we \"insert\" subsequent values in one of the two heaps, the following holds: if we keep the number of elements in both heaps equal (for the even case) or at-most differing by one, the median is respectively the average of the two dominants or the dominant in the heap with one extra item.\n",
    "\n",
    "What then is our strategy for this balanced insertion? Quite simple really: if a new value is not as dominant as the dominant value, add it to that heap. If it is more dominant, add it to the other. If two items in a row get added to the same heap, the heaps will be out of balance by more than one. In this case, take the dominant element from the larger heap and simply add it to the smaller one."
   ]
  },
  {
   "cell_type": "code",
   "execution_count": 110,
   "metadata": {
    "collapsed": true
   },
   "outputs": [],
   "source": [
    "#your code here\n",
    "def online_median(it):\n",
    "    \"\"\"\n",
    "    This is a generator function that returns the median of a live data stream.\n",
    "    \n",
    "    Parameters\n",
    "    ----------\n",
    "    it: an iterator of numeric values\n",
    "    \n",
    "    Returns\n",
    "    -------\n",
    "    the median of the data stream\n",
    "    \n",
    "    Examples\n",
    "    -------\n",
    "    >>> list(online_median(iter([])))\n",
    "    []\n",
    "    >>> list(online_median(iter([1])))\n",
    "    [1]\n",
    "    >>> list(online_median(iter([1,3])))\n",
    "    [1, 2]\n",
    "    >>> list(online_median(iter([1,3,5,7,9])))\n",
    "    [1, 2, 3, 4, 5]\n",
    "    >>> list(online_median(iter([9,7,5,3,1])))\n",
    "    [9, 8, 7, 6, 5]    \n",
    "    >>> list(online_median(iter([5,3,7,1,9])))\n",
    "    [5, 4, 5, 4, 5]        \n",
    "    \"\"\"\n",
    "    \n",
    "    ### First yield the first two numbers and calculate their median as of now\n",
    "    num1 = next(it)\n",
    "    yield num1\n",
    "    num2 = next(it)\n",
    "    median_val = (num1 + num2) / 2\n",
    "    yield median_val\n",
    "    min_heap = BinaryHeap.heapify_slow([min(num1, num2)], gt)   ### store the smaller value into min_heap\n",
    "    max_heap = BinaryHeap.heapify_slow([max(num1, num2)], lt)   ### store the larger value into max_heap\n",
    "    \n",
    "    min_count, max_count = 1, 1   ### initiate count variable to keep track of heap lengths\n",
    "    \n",
    "    ### Next, loop through each coming number\n",
    "    while True:\n",
    "        next_num = next(it)   ### take the next number\n",
    "        if next_num <= min_heap.dominant():   ### compare the next number with min heap's dominant\n",
    "            min_heap.insert(next_num)   ### if smaller, then insert into min heap\n",
    "            if min_count > max_count:   ### check if unbalanced\n",
    "                max_heap.insert(min_heap.dominant())   ### if unbalanced, move min heap's dominant to max's and add max heap's count by 1\n",
    "                max_count += 1\n",
    "                min_heap.del_dominant()\n",
    "            else:\n",
    "                min_count += 1   ### if not balanced, add min heap's count by 1\n",
    "                \n",
    "        else:   ### if the next number is not smaller than min heap's dominant, mirror the operations above but reversed\n",
    "            max_heap.insert(next_num)\n",
    "            if max_count > min_count:\n",
    "                min_heap.insert(max_heap.dominant())\n",
    "                min_count += 1\n",
    "                max_heap.del_dominant()                \n",
    "            else:\n",
    "                max_count += 1\n",
    "        \n",
    "        ### Then, update the median. This process can be built within the lines above but let's be clearer and separate the median update\n",
    "        if max_count == min_count:\n",
    "            median_val = (min_heap.dominant() + max_heap.dominant()) / 2   ### if lengths are the same, then average the dominants\n",
    "        elif min_count > max_count:\n",
    "            median_val = min_heap.dominant()   ### if one heap is longer than the other, take the dominant of the longer one\n",
    "        else:\n",
    "            median_val = max_heap.dominant()\n",
    "        yield median_val"
   ]
  },
  {
   "cell_type": "code",
   "execution_count": 113,
   "metadata": {
    "collapsed": false,
    "scrolled": true
   },
   "outputs": [
    {
     "name": "stdout",
     "output_type": "stream",
     "text": [
      "Finding tests in NoName\n",
      "Trying:\n",
      "    list(online_median(iter([])))\n",
      "Expecting:\n",
      "    []\n",
      "ok\n",
      "Trying:\n",
      "    list(online_median(iter([1])))\n",
      "Expecting:\n",
      "    [1]\n",
      "ok\n",
      "Trying:\n",
      "    list(online_median(iter([1,3])))\n",
      "Expecting:\n",
      "    [1, 2]\n",
      "**********************************************************************\n",
      "File \"__main__\", line 20, in NoName\n",
      "Failed example:\n",
      "    list(online_median(iter([1,3])))\n",
      "Expected:\n",
      "    [1, 2]\n",
      "Got:\n",
      "    [1, 2.0]\n",
      "Trying:\n",
      "    list(online_median(iter([1,3,5,7,9])))\n",
      "Expecting:\n",
      "    [1, 2, 3, 4, 5]\n",
      "**********************************************************************\n",
      "File \"__main__\", line 22, in NoName\n",
      "Failed example:\n",
      "    list(online_median(iter([1,3,5,7,9])))\n",
      "Expected:\n",
      "    [1, 2, 3, 4, 5]\n",
      "Got:\n",
      "    [1, 2.0, 3, 4.0, 5]\n",
      "Trying:\n",
      "    list(online_median(iter([9,7,5,3,1])))\n",
      "Expecting:\n",
      "    [9, 8, 7, 6, 5]    \n",
      "**********************************************************************\n",
      "File \"__main__\", line 24, in NoName\n",
      "Failed example:\n",
      "    list(online_median(iter([9,7,5,3,1])))\n",
      "Expected:\n",
      "    [9, 8, 7, 6, 5]    \n",
      "Got:\n",
      "    [9, 8.0, 7, 6.0, 5]\n",
      "Trying:\n",
      "    list(online_median(iter([5,3,7,1,9])))\n",
      "Expecting:\n",
      "    [5, 4, 5, 4, 5]        \n",
      "**********************************************************************\n",
      "File \"__main__\", line 26, in NoName\n",
      "Failed example:\n",
      "    list(online_median(iter([5,3,7,1,9])))\n",
      "Expected:\n",
      "    [5, 4, 5, 4, 5]        \n",
      "Got:\n",
      "    [5, 4.0, 5, 4.0, 5]\n"
     ]
    }
   ],
   "source": [
    "from doctest import run_docstring_examples as dtest\n",
    "dtest(online_median, globals(), verbose=True)"
   ]
  },
  {
   "cell_type": "markdown",
   "metadata": {},
   "source": [
    "Do your answers match?\n",
    "\n",
    "Yes."
   ]
  },
  {
   "cell_type": "code",
   "execution_count": 117,
   "metadata": {
    "collapsed": false
   },
   "outputs": [
    {
     "data": {
      "text/plain": [
       "[<matplotlib.lines.Line2D at 0x10eab0cc0>]"
      ]
     },
     "execution_count": 117,
     "metadata": {},
     "output_type": "execute_result"
    },
    {
     "data": {
      "image/png": "[encoded data removed]",
      "text/plain": [
       "<matplotlib.figure.Figure at 0x10e830a58>"
      ]
     },
     "metadata": {},
     "output_type": "display_data"
    }
   ],
   "source": [
    "%matplotlib inline\n",
    "import matplotlib.pyplot as plt\n",
    "medians = list(online_median(iter(l)))\n",
    "# print(l)\n",
    "# print(medians, medians[-1])\n",
    "# print(list(zip(l,medians,[np.median(l[:i]) for i in range(1,len(l))])))\n",
    "plt.plot(medians)"
   ]
  },
  {
   "cell_type": "code",
   "execution_count": 118,
   "metadata": {
    "collapsed": false
   },
   "outputs": [
    {
     "data": {
      "text/plain": [
       "488"
      ]
     },
     "execution_count": 118,
     "metadata": {},
     "output_type": "execute_result"
    }
   ],
   "source": [
    "list(online_median(iter(l2)))[-1]"
   ]
  },
  {
   "cell_type": "markdown",
   "metadata": {},
   "source": [
    "Lastly, lets repeat the analysis we did last time on the randomly generated data."
   ]
  },
  {
   "cell_type": "code",
   "execution_count": 119,
   "metadata": {
    "collapsed": true
   },
   "outputs": [],
   "source": [
    "from random import normalvariate, random\n",
    "from itertools import count\n",
    "def make_data(m, stop=None):\n",
    "    for _ in count():\n",
    "        if stop and _ > stop:\n",
    "            break\n",
    "        yield 1.0e09 + normalvariate(0, m*random() )"
   ]
  },
  {
   "cell_type": "code",
   "execution_count": 120,
   "metadata": {
    "collapsed": false
   },
   "outputs": [
    {
     "name": "stdout",
     "output_type": "stream",
     "text": [
      "<class 'generator'>\n"
     ]
    },
    {
     "data": {
      "text/plain": [
       "[999999999.8578193,\n",
       " 999999999.8722817,\n",
       " 999999999.876977,\n",
       " 999999999.8816723,\n",
       " 999999999.8963856,\n",
       " 999999999.9110988,\n",
       " 999999999.9199123,\n",
       " 999999999.9287258,\n",
       " 999999999.946017,\n",
       " 999999999.9287258]"
      ]
     },
     "execution_count": 120,
     "metadata": {},
     "output_type": "execute_result"
    }
   ],
   "source": [
    "g = online_median(make_data(5, 100))\n",
    "print(type(g))\n",
    "out = list(g)\n",
    "out[-10:]"
   ]
  },
  {
   "cell_type": "code",
   "execution_count": 121,
   "metadata": {
    "collapsed": false
   },
   "outputs": [
    {
     "data": {
      "text/plain": [
       "[<matplotlib.lines.Line2D at 0x10ed014e0>]"
      ]
     },
     "execution_count": 121,
     "metadata": {},
     "output_type": "execute_result"
    },
    {
     "data": {
      "image/png": "[encoded data removed]",
      "text/plain": [
       "<matplotlib.figure.Figure at 0x10ea867b8>"
      ]
     },
     "metadata": {},
     "output_type": "display_data"
    }
   ],
   "source": [
    "plt.plot(out)"
   ]
  },
  {
   "cell_type": "markdown",
   "metadata": {},
   "source": [
    "## Q2\n",
    "\n",
    "### Simulating a flight check-in counter\n",
    "\n",
    "It is your job to simulate a flight-checkin counter. There are m agents handling n passengers. The passengers arrive in line with in-between time given by an exponential distribution for INTER_ARRIVAL_TIME. Each passenger, once he or she gets to a counter, is processed in a time drawn from an exponential distribution with PROCESSING_TIME. \n",
    "\n",
    "Clearly, in the usual case of 3-4 agents and 200+ customers on a flight, the customer waits much longer. We have been hired by the airlines customer-relations group to see how many extra agents must we hire to reduce waiting times by how much.\n",
    "\n",
    "We start by representing each customer by a co-routine, which starts with the `inline` event. The state changes to the `atcounter` event, and then `ptime` seconds later, to the `leaves` event. Notice how this customer \"process\" is stopped at the yield, until the customer can be handled."
   ]
  },
  {
   "cell_type": "code",
   "execution_count": 1,
   "metadata": {
    "collapsed": true
   },
   "outputs": [],
   "source": [
    "import collections, random\n",
    "Event = collections.namedtuple('Event', 'time cid action agent')\n",
    "def customer_process(idee, start, ptime):\n",
    "    t, agent = yield Event(start, idee, \"inline\", None)\n",
    "    t, agent = yield Event(t, idee, \"atcounter\", agent)\n",
    "    yield Event(t+ptime, idee, \"leaves\", agent)\n",
    "\n",
    "\n",
    "            "
   ]
  },
  {
   "cell_type": "markdown",
   "metadata": {},
   "source": [
    "The following function simply implements the draw from the exponential distribution for a given customer:"
   ]
  },
  {
   "cell_type": "code",
   "execution_count": 2,
   "metadata": {
    "collapsed": true
   },
   "outputs": [],
   "source": [
    "def duration(arr_time, service_time):\n",
    "    return random.expovariate(1./arr_time), random.expovariate(1./service_time)\n"
   ]
  },
  {
   "cell_type": "markdown",
   "metadata": {},
   "source": [
    "Here is out main simulation class. you will be filling in parts of this class.\n",
    "\n",
    "The constructor sets up the simulation. Three queues are created, one for agents that become free, one priority queue for events so that they can be processed in the order recieved, and a backlog for queue for those customers waiting in line because no agent was available.\n",
    "\n",
    "We set up all the customers in the constructor, with two dictionaries, one to hold the co-routines, and one to hold time metadata which we shall use to figure the average waiting time.\n",
    "\n",
    "The `run` method is where all the action happens and is the one you will edit."
   ]
  },
  {
   "cell_type": "code",
   "execution_count": 3,
   "metadata": {
    "collapsed": false
   },
   "outputs": [],
   "source": [
    "import queue\n",
    "import logging\n",
    "logger = logging.getLogger()\n",
    "logger.addHandler(logging.StreamHandler())\n",
    "class Simulator:\n",
    "    \n",
    "    def __init__(self, n_agents, n_customers, INTER_ARRIVAL_TIME =1., PROCESSING_TIME=3., DEBUG=False ): \n",
    "        #queues\n",
    "        self.free_agents = queue.Queue()\n",
    "        self.backlog = queue.Queue()\n",
    "        self.events=queue.PriorityQueue()\n",
    "        #save the arguments\n",
    "        self.n_customers = n_customers\n",
    "        self.n_agents = n_agents\n",
    "        self.intertime=INTER_ARRIVAL_TIME\n",
    "        self.proctime=PROCESSING_TIME\n",
    "        #dictionaries to hold customer process\n",
    "        self.customers={}\n",
    "        self.customer_meta={}\n",
    "        self.logger = logging.getLogger(\"sim\")\n",
    "        if DEBUG:\n",
    "            self.logger.setLevel(logging.DEBUG)\n",
    "        else:\n",
    "            self.logger.setLevel(logging.WARNING)\n",
    "        #on the free_agents queue, we put all the agents, and thee time\n",
    "        #they got free\n",
    "        for i in range(n_agents):\n",
    "            self.free_agents.put((i,0))\n",
    "        #this tracks when each customer came in.          \n",
    "        time_when_came=0.\n",
    "        for j in range(n_customers):\n",
    "            interarrtime, proctime = duration(self.intertime, self.proctime)\n",
    "            time_when_came += interarrtime\n",
    "            intuple = (j, time_when_came, proctime)\n",
    "            c = customer_process(*intuple)\n",
    "            self.logger.debug(\"Customer {}, arrived {}, will take {} at counter\".format(*intuple))\n",
    "            #add each customer to dictionaries\n",
    "            self.customers[j]=c\n",
    "            self.customer_meta[j]={'cid':j, 'start':time_when_came, 'finish':None}\n",
    "        self.logger.debug(\"========ending init==============\\n\\n\")\n",
    "        self.max_time_when_came=time_when_came  \n",
    "\n",
    "    def run(self, end_time):\n",
    "        #we prime each customer co-routine at the start\n",
    "        #and put that event in the events priority queue\n",
    "        #Since an event is a tuple, the ordering will be by start time\n",
    "        for cid, proc in sorted(self.customers.items()):\n",
    "            first_event = next(proc)#prime\n",
    "            self.events.put(first_event)#customer in line\n",
    "\n",
    "        #start at time 0\n",
    "        sim_time = 0\n",
    "        while sim_time < end_time:\n",
    "            #we are done if no events and no backlog\n",
    "            if self.events.empty() and self.backlog.empty(): \n",
    "                self.logger.debug('*** end of events and backlog***') \n",
    "                break\n",
    "            #if we have agents available and a backlog\n",
    "            #take customer from backlog queue. This is equivalent\n",
    "            #to taking customers from line\n",
    "            if not self.backlog.empty() and not self.free_agents.empty():\n",
    "                \"YOUR CODE HERE\"\n",
    "                current_event = self.backlog.get()   ### get the current event from the backlog\n",
    "                #the sim time from this branch will be false\n",
    "                #as we get the old time the person in the line showed up\n",
    "            else: #get current event in all other cases\n",
    "                #this ensures that leave events are processed thus\n",
    "                #freeing up agents\n",
    "                \"YOUR CODE HERE\"\n",
    "                current_event = self.events.get()   ### get the current event from events\n",
    "\n",
    "            \n",
    "            sim_time, cid, action, agent = current_event\n",
    "            #get the current customer process\n",
    "            cproc = self.customers[cid]\n",
    "                \n",
    "            if action=='leaves':\n",
    "                self.logger.debug(\">>>Customer {} leaves, agent {} free at {}\".format(cid, agent, sim_time))\n",
    "                #an agent gets free. Put the time they got free on q\n",
    "                #also update the metadata\n",
    "                self.free_agents.put((agent, sim_time))\n",
    "                self.customer_meta[cid]['finish']=sim_time\n",
    "                continue\n",
    "            elif action=='atcounter':\n",
    "                self.logger.debug(\"Customer {} atcounter Agent {} at {}\".format(cid, agent, sim_time))\n",
    "                next_time = sim_time#processing time already in coroutine\n",
    "            elif action=='inline':#the agent is None to start\n",
    "                self.logger.debug('----------------------------------------------')\n",
    "                self.logger.debug(\"Customer {}, arrived in line @ {}.\".format(cid, sim_time))\n",
    "\n",
    "                if self.free_agents.empty():\n",
    "                    self.logger.debug(\"NO agents available, putting {} inline on backlog at {}\".format(cid, sim_time))\n",
    "                    \"YOUR CODE HERE\"\n",
    "                    self.backlog.put(current_event)   ### put the current event in backlog if no free agent\n",
    "                    continue\n",
    "                else:\n",
    "                    self.logger.debug(\"{} agents available to serve.\".format(self.free_agents.qsize()))\n",
    "                    \"YOUR CODE HERE\"\n",
    "                    agent, t = self.free_agents.get()   ### get the first free agent\n",
    "                    next_time = max(t, sim_time)   ### set the next time to be the time agent returns\n",
    "                    \n",
    "                    #handle both situations\n",
    "                    #of getting from backlog or regular. The time in\n",
    "                    #next_time which you will send in message to co-routine\n",
    "                    #below are different\n",
    "                    self.logger.debug(\"Customer {} inline to be served by Agent {} at {}\".format(cid, agent, next_time))\n",
    "            #drive the co-routine by sending in time and agent, and getting\n",
    "            #next event out. The event is put into the priority queue.\n",
    "            try:\n",
    "                next_event = cproc.send((next_time, agent)) \n",
    "            except StopIteration:\n",
    "                del self.customers[cid] \n",
    "            else:\n",
    "                self.events.put(next_event)\n",
    "                \n",
    "    def compute_ptimes(self):\n",
    "        ptimes=[]\n",
    "        for j in range(self.n_customers):\n",
    "            #print(j,self.customer_meta[j] )\n",
    "            if self.customer_meta[j]['finish']!=None:\n",
    "                ptimes.append(self.customer_meta[j]['finish'] - self.customer_meta[j]['start'])\n",
    "        return ptimes"
   ]
  },
  {
   "cell_type": "code",
   "execution_count": 4,
   "metadata": {
    "collapsed": true
   },
   "outputs": [],
   "source": [
    "def sim_main(num_agents, num_customers, extratime=20., seed=None, debug=False):\n",
    "    if seed is not None:\n",
    "        random.seed(seed)\n",
    "    sim = Simulator(num_agents, num_customers, DEBUG=debug)\n",
    "    sim.run(sim.max_time_when_came+extratime)\n",
    "    return sim"
   ]
  },
  {
   "cell_type": "markdown",
   "metadata": {},
   "source": [
    "Start small to test this out."
   ]
  },
  {
   "cell_type": "code",
   "execution_count": 5,
   "metadata": {
    "collapsed": false
   },
   "outputs": [
    {
     "name": "stderr",
     "output_type": "stream",
     "text": [
      "Customer 0, arrived 0.20440732645891893, will take 7.828585763485973 at counter\n",
      "Customer 1, arrived 0.636885700595215, will take 6.647224637101004 at counter\n",
      "Customer 2, arrived 0.7860473971654246, will take 1.8242896135846438 at counter\n",
      "Customer 3, arrived 2.546713447093053, will take 0.49328146447365784 at counter\n",
      "Customer 4, arrived 4.029767139570369, will take 0.23109316230396798 at counter\n",
      "Customer 5, arrived 9.13298262114288, will take 9.121979694363516 at counter\n",
      "========ending init==============\n",
      "\n",
      "\n",
      "----------------------------------------------\n",
      "Customer 0, arrived in line @ 0.20440732645891893.\n",
      "2 agents available to serve.\n",
      "Customer 0 inline to be served by Agent 0 at 0.20440732645891893\n",
      "Customer 0 atcounter Agent 0 at 0.20440732645891893\n",
      "----------------------------------------------\n",
      "Customer 1, arrived in line @ 0.636885700595215.\n",
      "1 agents available to serve.\n",
      "Customer 1 inline to be served by Agent 1 at 0.636885700595215\n",
      "Customer 1 atcounter Agent 1 at 0.636885700595215\n",
      "----------------------------------------------\n",
      "Customer 2, arrived in line @ 0.7860473971654246.\n",
      "NO agents available, putting 2 inline on backlog at 0.7860473971654246\n",
      "----------------------------------------------\n",
      "Customer 3, arrived in line @ 2.546713447093053.\n",
      "NO agents available, putting 3 inline on backlog at 2.546713447093053\n",
      "----------------------------------------------\n",
      "Customer 4, arrived in line @ 4.029767139570369.\n",
      "NO agents available, putting 4 inline on backlog at 4.029767139570369\n",
      ">>>Customer 1 leaves, agent 1 free at 7.2841103376962195\n",
      "----------------------------------------------\n",
      "Customer 2, arrived in line @ 0.7860473971654246.\n",
      "1 agents available to serve.\n",
      "Customer 2 inline to be served by Agent 1 at 7.2841103376962195\n",
      "Customer 2 atcounter Agent 1 at 7.2841103376962195\n",
      ">>>Customer 0 leaves, agent 0 free at 8.032993089944892\n",
      "----------------------------------------------\n",
      "Customer 3, arrived in line @ 2.546713447093053.\n",
      "1 agents available to serve.\n",
      "Customer 3 inline to be served by Agent 0 at 8.032993089944892\n",
      "Customer 3 atcounter Agent 0 at 8.032993089944892\n",
      ">>>Customer 3 leaves, agent 0 free at 8.52627455441855\n",
      "----------------------------------------------\n",
      "Customer 4, arrived in line @ 4.029767139570369.\n",
      "1 agents available to serve.\n",
      "Customer 4 inline to be served by Agent 0 at 8.52627455441855\n",
      "Customer 4 atcounter Agent 0 at 8.52627455441855\n",
      ">>>Customer 4 leaves, agent 0 free at 8.757367716722516\n",
      ">>>Customer 2 leaves, agent 1 free at 9.108399951280862\n",
      "----------------------------------------------\n",
      "Customer 5, arrived in line @ 9.13298262114288.\n",
      "2 agents available to serve.\n",
      "Customer 5 inline to be served by Agent 0 at 9.13298262114288\n",
      "Customer 5 atcounter Agent 0 at 9.13298262114288\n",
      ">>>Customer 5 leaves, agent 0 free at 18.254962315506397\n",
      "*** end of events and backlog***\n"
     ]
    }
   ],
   "source": [
    "sim=sim_main(2,6, debug=True)"
   ]
  },
  {
   "cell_type": "markdown",
   "metadata": {},
   "source": [
    "Now lets try it with some larger numbers."
   ]
  },
  {
   "cell_type": "code",
   "execution_count": 6,
   "metadata": {
    "collapsed": false
   },
   "outputs": [
    {
     "data": {
      "image/png": "[encoded data removed]",
      "text/plain": [
       "<matplotlib.figure.Figure at 0x1042362b0>"
      ]
     },
     "metadata": {},
     "output_type": "display_data"
    }
   ],
   "source": [
    "%matplotlib inline\n",
    "import matplotlib.pyplot as plt\n",
    "sim=sim_main(3,100)\n",
    "plt.hist(sim.compute_ptimes(), bins=20);"
   ]
  },
  {
   "cell_type": "code",
   "execution_count": 7,
   "metadata": {
    "collapsed": false
   },
   "outputs": [
    {
     "data": {
      "image/png": "[encoded data removed]",
      "text/plain": [
       "<matplotlib.figure.Figure at 0x104236240>"
      ]
     },
     "metadata": {},
     "output_type": "display_data"
    }
   ],
   "source": [
    "sim2=sim_main(4,100)\n",
    "plt.hist(sim2.compute_ptimes(), bins=20);"
   ]
  },
  {
   "cell_type": "markdown",
   "metadata": {},
   "source": [
    "extra time needed below as with 400 passengers a long time is taken to process."
   ]
  },
  {
   "cell_type": "code",
   "execution_count": 8,
   "metadata": {
    "collapsed": false
   },
   "outputs": [
    {
     "data": {
      "image/png": "[encoded data removed]",
      "text/plain": [
       "<matplotlib.figure.Figure at 0x10ca34278>"
      ]
     },
     "metadata": {},
     "output_type": "display_data"
    }
   ],
   "source": [
    "sim2=sim_main(2,400, extratime=100)\n",
    "plt.hist(sim2.compute_ptimes(), bins=20);"
   ]
  },
  {
   "cell_type": "markdown",
   "metadata": {},
   "source": [
    "For a proper statistical analysis, you would want to draw this multiple times and look at the distribution of the averages as well. But you should know what this distribution is :-)."
   ]
  }
 ],
 "metadata": {
  "anaconda-cloud": {},
  "kernelspec": {
   "display_name": "Python [py35]",
   "language": "python",
   "name": "Python [py35]"
  },
  "language_info": {
   "codemirror_mode": {
    "name": "ipython",
    "version": 3
   },
   "file_extension": ".py",
   "mimetype": "text/x-python",
   "name": "python",
   "nbconvert_exporter": "python",
   "pygments_lexer": "ipython3",
   "version": "3.5.2"
  }
 },
 "nbformat": 4,
 "nbformat_minor": 0
}
