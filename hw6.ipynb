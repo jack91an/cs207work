{
 "cells": [
  {
   "cell_type": "markdown",
   "metadata": {
    "collapsed": true
   },
   "source": [
    "## Q1.\n",
    "\n",
    "Add a __setitem__ to the python linked list implementation from the lecture (this past wednesday)."
   ]
  },
  {
   "cell_type": "code",
   "execution_count": 3,
   "metadata": {
    "collapsed": false
   },
   "outputs": [
    {
     "data": {
      "text/plain": [
       "3"
      ]
     },
     "execution_count": 3,
     "metadata": {},
     "output_type": "execute_result"
    }
   ],
   "source": [
    "alist=[1,2,3,4]\n",
    "alist.__getitem__(2)"
   ]
  },
  {
   "cell_type": "code",
   "execution_count": 4,
   "metadata": {
    "collapsed": true
   },
   "outputs": [],
   "source": [
    "#your code here\n",
    "from doctest import run_docstring_examples as dtest\n",
    "import numbers\n",
    "import reprlib\n",
    "class LL:\n",
    "    \"\"\"\n",
    "    >>> A = LL()  \n",
    "    >>> A[0]\n",
    "    Traceback (most recent call last):\n",
    "        ...\n",
    "    IndexError: trying to index an empty LL\n",
    "    >>> A[0] = 1\n",
    "    Traceback (most recent call last):\n",
    "        ...\n",
    "    IndexError: trying to set an empty LL\n",
    "    >>> A.insert_front(1)\n",
    "    >>> A[0]\n",
    "    1\n",
    "    >>> A.insert_back(2)\n",
    "    >>> A[1]\n",
    "    2\n",
    "    >>> A\n",
    "    LL([1,...])\n",
    "    >>> myll = LL.from_components([1,2])\n",
    "    >>> myll[1]\n",
    "    1\n",
    "    >>> len(myll)\n",
    "    2\n",
    "    >>> myll[2]\n",
    "    Traceback (most recent call last):\n",
    "        ...\n",
    "    IndexError: LL index out of range\n",
    "    >>> myll[0:1]\n",
    "    Traceback (most recent call last):\n",
    "        ...\n",
    "    TypeError: LL indices must be integers\n",
    "    >>> myll[0] = 3\n",
    "    >>> myll[0]\n",
    "    3\n",
    "    >>> myll[1] = 4\n",
    "    >>> myll[1]\n",
    "    4\n",
    "    >>> myll[2] = 5\n",
    "    Traceback (most recent call last):\n",
    "        ...\n",
    "    IndexError: LL index out of range\n",
    "    >>> myll[0:1] = 6\n",
    "    Traceback (most recent call last):\n",
    "        ...\n",
    "    TypeError: LL indices must be integers\n",
    "    \"\"\"\n",
    "    @classmethod\n",
    "    def from_components(cls, components):\n",
    "        inst = cls(components[0])\n",
    "        for c in components[1:]:\n",
    "            inst.insert_front(c)\n",
    "        return inst\n",
    "        \n",
    "    def __init__(self, head=None):\n",
    "        if head is None:\n",
    "            self._headNode = None\n",
    "        else:\n",
    "            self._headNode = [head, None]\n",
    "            \n",
    "    def insert_front(self, element):\n",
    "        new_node = [element, None]\n",
    "        new_node[1] = self._headNode\n",
    "        self._headNode = new_node\n",
    "        \n",
    "    def insert_back(self, element):\n",
    "        new_node = [element, None]\n",
    "        curr_ptr = self._headNode\n",
    "        while curr_ptr[1] is not None:\n",
    "            curr_ptr = curr_ptr[1]\n",
    "        curr_ptr[1]= new_node\n",
    "        \n",
    "    def __repr__(self):\n",
    "        class_name = type(self).__name__\n",
    "        if len(self)==0:\n",
    "            components=\"\"\n",
    "        else:\n",
    "            components = reprlib.repr(self[0])\n",
    "        return '{}([{},...])'.format(class_name,components)\n",
    "\n",
    "\n",
    "    def __len__(self):\n",
    "        curr_ptr = self._headNode\n",
    "        count = 0\n",
    "        if curr_ptr==None:\n",
    "            return 0\n",
    "        while 1:\n",
    "            count = count + 1\n",
    "            if curr_ptr[1] is None:\n",
    "                break\n",
    "            curr_ptr = curr_ptr[1]\n",
    "        return count    \n",
    "    \n",
    "    def __getitem__(self, index):\n",
    "        class_name = type(self).__name__\n",
    "        if isinstance(index, numbers.Integral): \n",
    "            curr_ptr = self._headNode\n",
    "            if curr_ptr==None:\n",
    "                msg = 'trying to index an empty {class_name}' \n",
    "                raise IndexError(msg.format(class_name=class_name))\n",
    "            next_ptr = self._headNode[1]\n",
    "            count = 0\n",
    "            while 1:\n",
    "                if index == count:\n",
    "                    return curr_ptr[0]\n",
    "                if curr_ptr[1] is None:\n",
    "                    msg = '{class_name} index out of range' \n",
    "                    raise IndexError(msg.format(class_name=class_name))       \n",
    "                count += 1\n",
    "                curr_ptr = curr_ptr[1]\n",
    "        else:\n",
    "            msg = '{class_name} indices must be integers' \n",
    "            raise TypeError(msg.format(class_name=class_name))\n",
    "            \n",
    "    ### Added __setitem__ method\n",
    "    def __setitem__(self, index, value):\n",
    "        class_name = type(self).__name__\n",
    "        if isinstance(index, numbers.Integral):\n",
    "            curr_ptr = self._headNode   ### Set the current pointer to the headnote\n",
    "            if curr_ptr==None:   ### First check if the linked list is empty. If so, raise error\n",
    "                msg = 'trying to set an empty {class_name}'\n",
    "                raise IndexError(msg.format(class_name=class_name))\n",
    "            count = 0   ### Start a count to track the index\n",
    "            while curr_ptr[1] is not None and count < index:\n",
    "                curr_ptr = curr_ptr[1]   ### Recursively set the pointer to the second component\n",
    "                count += 1\n",
    "            if count == index:   \n",
    "                curr_ptr[0] = value   ### Whe the index matches, set the first component to the desired value\n",
    "            else:\n",
    "                raise IndexError('{} index out of range'.format(class_name=class_name))\n",
    "        else:\n",
    "            raise TypeError('{} indices must be integers'.format(class_name=class_name))"
   ]
  },
  {
   "cell_type": "markdown",
   "metadata": {},
   "source": [
    "## Q2.\n",
    "\n",
    "An online mean and standard deviation algorithm.\n",
    "\n",
    "Below is a function to generate a potentially infinite stream of 1-D data."
   ]
  },
  {
   "cell_type": "code",
   "execution_count": 5,
   "metadata": {
    "collapsed": false
   },
   "outputs": [],
   "source": [
    "from random import normalvariate, random\n",
    "from itertools import count\n",
    "def make_data(m, stop=None):\n",
    "    for _ in count():\n",
    "        if stop and _ > stop:\n",
    "            break\n",
    "        yield 1.0e09 + normalvariate(0, m*random() )\n",
    "        "
   ]
  },
  {
   "cell_type": "code",
   "execution_count": 6,
   "metadata": {
    "collapsed": false
   },
   "outputs": [
    {
     "data": {
      "text/plain": [
       "[1000000004.1859972, 999999988.752614, 1000000000.0656415]"
      ]
     },
     "execution_count": 6,
     "metadata": {},
     "output_type": "execute_result"
    }
   ],
   "source": [
    "list(make_data(5,2))"
   ]
  },
  {
   "cell_type": "markdown",
   "metadata": {},
   "source": [
    "Here is an implementation of an online mean algorithm..see http://www.johndcook.com/blog/standard_deviation/ and the link to http://www.johndcook.com/blog/2008/09/26/comparing-three-methods-of-computing-standard-deviation/ in-between. (Convince yourselves of the formulas...)"
   ]
  },
  {
   "cell_type": "code",
   "execution_count": 7,
   "metadata": {
    "collapsed": true
   },
   "outputs": [],
   "source": [
    "def online_mean(iterator):\n",
    "    n = 0\n",
    "    mu = 0\n",
    "    for value in iterator:\n",
    "        n += 1\n",
    "        delta = value - mu\n",
    "        mu = mu + delta/n\n",
    "        yield mu"
   ]
  },
  {
   "cell_type": "markdown",
   "metadata": {},
   "source": [
    "We use out generator functions to implement iterators:"
   ]
  },
  {
   "cell_type": "code",
   "execution_count": 8,
   "metadata": {
    "collapsed": false
   },
   "outputs": [
    {
     "data": {
      "text/plain": [
       "[999999997.8166004,\n",
       " 1000000003.5535761,\n",
       " 999999999.5723956,\n",
       " 999999999.8229327,\n",
       " 1000000001.2319285,\n",
       " 999999996.1679642,\n",
       " 999999998.5766081,\n",
       " 999999999.8528634,\n",
       " 1000000001.505881,\n",
       " 1000000001.1259552,\n",
       " 999999995.4404545]"
      ]
     },
     "execution_count": 8,
     "metadata": {},
     "output_type": "execute_result"
    }
   ],
   "source": [
    "g = make_data(5, 10)\n",
    "list(g)"
   ]
  },
  {
   "cell_type": "code",
   "execution_count": 9,
   "metadata": {
    "collapsed": false,
    "scrolled": true
   },
   "outputs": [
    {
     "name": "stdout",
     "output_type": "stream",
     "text": [
      "<class 'generator'>\n"
     ]
    },
    {
     "data": {
      "text/plain": [
       "[1000000004.7414484,\n",
       " 999999996.8879447,\n",
       " 999999998.0238129,\n",
       " 999999997.647348,\n",
       " 999999998.0956627,\n",
       " 999999997.9428663,\n",
       " 999999997.9605042,\n",
       " 999999998.7018135,\n",
       " 999999998.6184287,\n",
       " 999999998.5303165,\n",
       " 999999998.6902213,\n",
       " 999999998.5422832,\n",
       " 999999998.4536852,\n",
       " 999999998.1684102,\n",
       " 999999998.4730377,\n",
       " 999999998.4313344,\n",
       " 999999998.4751679,\n",
       " 999999998.2271472,\n",
       " 999999998.4740791,\n",
       " 999999998.6144122,\n",
       " 999999998.6351086,\n",
       " 999999998.6883758,\n",
       " 999999998.7828887,\n",
       " 999999998.7938501,\n",
       " 999999998.8608532,\n",
       " 999999998.9203596,\n",
       " 999999998.9621117,\n",
       " 999999998.9154578,\n",
       " 999999999.0327212,\n",
       " 999999999.0609074,\n",
       " 999999999.1184078,\n",
       " 999999998.9550205,\n",
       " 999999999.3328575,\n",
       " 999999999.3813684,\n",
       " 999999999.4660116,\n",
       " 999999999.359801,\n",
       " 999999999.6042349,\n",
       " 999999999.6717068,\n",
       " 999999999.7105484,\n",
       " 999999999.7197106,\n",
       " 999999999.7278416,\n",
       " 999999999.7306782,\n",
       " 999999999.5326445,\n",
       " 999999999.5871129,\n",
       " 999999999.6584103,\n",
       " 999999999.7798076,\n",
       " 999999999.8411804,\n",
       " 999999999.7799318,\n",
       " 999999999.7218899,\n",
       " 999999999.7063981,\n",
       " 999999999.6088063,\n",
       " 999999999.5892936,\n",
       " 999999999.6410549,\n",
       " 999999999.6732316,\n",
       " 999999999.688336,\n",
       " 999999999.6985413,\n",
       " 999999999.7049221,\n",
       " 999999999.7390121,\n",
       " 999999999.7665552,\n",
       " 999999999.7724168,\n",
       " 999999999.7901063,\n",
       " 999999999.7855366,\n",
       " 999999999.8711879,\n",
       " 999999999.8725668,\n",
       " 999999999.8483177,\n",
       " 999999999.7520214,\n",
       " 999999999.7449405,\n",
       " 999999999.8652656,\n",
       " 999999999.9366221,\n",
       " 999999999.9422625,\n",
       " 999999999.9605398,\n",
       " 999999999.858277,\n",
       " 999999999.8502865,\n",
       " 999999999.7668567,\n",
       " 999999999.7370921,\n",
       " 999999999.6995727,\n",
       " 999999999.7509,\n",
       " 999999999.7365922,\n",
       " 999999999.7262095,\n",
       " 999999999.6928034,\n",
       " 999999999.8048133,\n",
       " 999999999.8015916,\n",
       " 999999999.8072207,\n",
       " 999999999.8577123,\n",
       " 999999999.8089823,\n",
       " 999999999.799178,\n",
       " 999999999.803765,\n",
       " 999999999.819119,\n",
       " 999999999.8191338,\n",
       " 999999999.843333,\n",
       " 999999999.8350679,\n",
       " 999999999.8329569,\n",
       " 999999999.8427954,\n",
       " 999999999.8603436,\n",
       " 999999999.85916,\n",
       " 999999999.8148233,\n",
       " 999999999.7969489,\n",
       " 999999999.7923447,\n",
       " 999999999.8215827,\n",
       " 999999999.8342819,\n",
       " 999999999.8369747]"
      ]
     },
     "execution_count": 9,
     "metadata": {},
     "output_type": "execute_result"
    }
   ],
   "source": [
    "g = online_mean(make_data(5, 100))\n",
    "print(type(g))\n",
    "list(g)"
   ]
  },
  {
   "cell_type": "markdown",
   "metadata": {},
   "source": [
    "### 2.1\n",
    "\n",
    "Implement the standard deviation algorithm as a generator function as\n",
    "\n",
    "```python\n",
    "def online_mean_dev(iterator):\n",
    "    BLA BLA\n",
    "    if n > 1:\n",
    "        stddev = math.sqrt(dev_accum/(n-1))\n",
    "        yield (n, value, mu, stddev)\n",
    "```"
   ]
  },
  {
   "cell_type": "code",
   "execution_count": 10,
   "metadata": {
    "collapsed": false
   },
   "outputs": [],
   "source": [
    "# your code here\n",
    "import math\n",
    "def online_mean_dev(iterator):\n",
    "    \"\"\"\n",
    "    This function takes a sequence of floats and compute real-time mean and standard deviations\n",
    "    \"\"\"\n",
    "    n, mu, dev_accum = 0, 0, 0   ### Initiate count, mean and stdev\n",
    "    for value in iterator:\n",
    "        n += 1\n",
    "        old_mu = mu\n",
    "        mu = mu + (value - mu)/n   ### Calculate the new mean\n",
    "        dev_accum = dev_accum + (value - mu) * (value - old_mu)   ### Calculate the new accumulated standard deviation\n",
    "        if n > 1:\n",
    "            stddev = math.sqrt(dev_accum/(n - 1))   ### Update the current stddev\n",
    "            yield (n, value, mu, stddev)\n"
   ]
  },
  {
   "cell_type": "markdown",
   "metadata": {},
   "source": [
    "Here we make 100000 element data, and run this iterator on it (imagine running this on a time-series being slowly read from disk"
   ]
  },
  {
   "cell_type": "code",
   "execution_count": 11,
   "metadata": {
    "collapsed": false
   },
   "outputs": [],
   "source": [
    "data_with_stats = online_mean_dev(make_data(5, 100000))"
   ]
  },
  {
   "cell_type": "code",
   "execution_count": 12,
   "metadata": {
    "collapsed": false
   },
   "outputs": [
    {
     "name": "stdout",
     "output_type": "stream",
     "text": [
      "(2, 999999996.9500626, 999999999.416279, 3.487756575635576)\n",
      "(3, 999999999.9664807, 999999999.5996796, 2.4865900918902084)\n",
      "(4, 1000000000.1726872, 999999999.7429315, 2.0504075886138717)\n",
      "(5, 999999997.3442041, 999999999.263186, 2.0745860043614694)\n",
      "(6, 999999998.1712174, 999999999.0811912, 1.9083653241248142)\n"
     ]
    }
   ],
   "source": [
    "for i in range(5):\n",
    "    print(next(data_with_stats))"
   ]
  },
  {
   "cell_type": "markdown",
   "metadata": {},
   "source": [
    "## Q3.\n",
    "\n",
    "Let's do Anomaly detection. Write a routine `is_ok`:\n",
    "\n",
    "```python\n",
    "def is_ok(level, t)\n",
    "```\n",
    "\n",
    "which takes a tuple like the one yielded by your code above and returns True if the value is inbetween `level`-$\\sigma$ of the mean."
   ]
  },
  {
   "cell_type": "code",
   "execution_count": 15,
   "metadata": {
    "collapsed": true
   },
   "outputs": [],
   "source": [
    "#your code here\n",
    "def is_ok(level, t):\n",
    "    \"\"\"\n",
    "    takes a tuple of format (n, value, mu, stddev) and returns True if the value is inbetween level σ of the mean\n",
    "    \n",
    "    Parameters\n",
    "    --------------\n",
    "    t: a tuple with 4 elements:\n",
    "        - n: sequence number\n",
    "        - value: value of observation\n",
    "        - mu: the current mean\n",
    "        - stddev: the current standard deviation\n",
    "    level: a numeric value indicating tolerance for deviation\n",
    "    \n",
    "    Returns\n",
    "    -------\n",
    "    a boolean indicating if an observation is an outlier\n",
    "    \n",
    "    \"\"\"\n",
    "    if abs(t[1] - t[2]) < t[3] * level:   ### Check the difference between mean and value is within level*sigma\n",
    "        return True \n",
    "    else:\n",
    "        return False"
   ]
  },
  {
   "cell_type": "markdown",
   "metadata": {},
   "source": [
    "We use this function to create a predicate passed through to `itertools.filterfalse` which is then used to obtain an iterator on the anomalies."
   ]
  },
  {
   "cell_type": "code",
   "execution_count": 16,
   "metadata": {
    "collapsed": true
   },
   "outputs": [],
   "source": [
    "from itertools import filterfalse\n",
    "pred = lambda t: is_ok(5, t)\n",
    "anomalies = filterfalse(pred, data_with_stats)"
   ]
  },
  {
   "cell_type": "markdown",
   "metadata": {},
   "source": [
    "We materialize the anomalies..."
   ]
  },
  {
   "cell_type": "code",
   "execution_count": 17,
   "metadata": {
    "collapsed": false
   },
   "outputs": [
    {
     "data": {
      "text/plain": [
       "[(5341, 1000000014.7457297, 1000000000.0228792, 2.898246418826304),\n",
       " (7616, 1000000016.2988513, 999999999.9769441, 2.898036136626867),\n",
       " (11465, 999999985.1329468, 999999999.9738238, 2.8839704290262316),\n",
       " (17080, 1000000014.5838692, 999999999.9886577, 2.8775578760203),\n",
       " (19811, 1000000016.3667513, 999999999.9876126, 2.88739376915904),\n",
       " (22949, 1000000015.1737877, 999999999.9901078, 2.8925890345464724),\n",
       " (25137, 1000000014.6119932, 999999999.9871386, 2.891040824264531),\n",
       " (29016, 999999983.7533, 999999999.9912168, 2.8927931314521245),\n",
       " (30847, 999999985.3559211, 999999999.9874096, 2.893819856268411),\n",
       " (32483, 1000000015.1638541, 999999999.985426, 2.894499918397756),\n",
       " (33047, 1000000021.8066361, 999999999.9878001, 2.894802574266424),\n",
       " (42758, 999999984.9722868, 999999999.983181, 2.892983374175342),\n",
       " (49150, 999999985.2483209, 999999999.9949361, 2.881773716017394),\n",
       " (51271, 999999984.9252399, 999999999.9961294, 2.8834349561955777),\n",
       " (55613, 999999984.313456, 999999999.999441, 2.8836473888523204),\n",
       " (63762, 1000000014.4770741, 999999999.9950894, 2.87998522574297),\n",
       " (67893, 999999984.8972397, 999999999.9954594, 2.883202114378948),\n",
       " (70545, 1000000015.4739375, 999999999.993508, 2.8830698414572113),\n",
       " (74832, 1000000017.9216281, 999999999.9940894, 2.8814359184588345),\n",
       " (79694, 999999985.4859502, 999999999.9932202, 2.8799743144851693),\n",
       " (91515, 999999985.2925606, 999999999.9938762, 2.884065712657892),\n",
       " (96979, 999999985.4708545, 999999999.9901718, 2.8851685724075833)]"
      ]
     },
     "execution_count": 17,
     "metadata": {},
     "output_type": "execute_result"
    }
   ],
   "source": [
    "list(anomalies)#materialize"
   ]
  },
  {
   "cell_type": "markdown",
   "metadata": {},
   "source": [
    "## To think of, but not hand in\n",
    "\n",
    "What kinds of anomalies will this algorithm pick up? What kinds would a shorter \"window\" of anomaly detection, like 100 points around the time in question pick? How might you create an algorithm which does window based averaging? (hint: the window size is small compared to the time series size). \n",
    "\n",
    "Finally think a bit of how you might implement all of this in a production environment..remember that data streaming in might get backed up when you handle an anomaly.\n",
    "\n",
    "(Some inspiration might accrue if you look at the docs for `collections.deque`)."
   ]
  }
 ],
 "metadata": {
  "anaconda-cloud": {},
  "kernelspec": {
   "display_name": "Python [py35]",
   "language": "python",
   "name": "Python [py35]"
  },
  "language_info": {
   "codemirror_mode": {
    "name": "ipython",
    "version": 3
   },
   "file_extension": ".py",
   "mimetype": "text/x-python",
   "name": "python",
   "nbconvert_exporter": "python",
   "pygments_lexer": "ipython3",
   "version": "3.5.2"
  }
 },
 "nbformat": 4,
 "nbformat_minor": 0
}
